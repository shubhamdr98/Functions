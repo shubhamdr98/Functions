{
 "cells": [
  {
   "cell_type": "markdown",
   "id": "cbfaeefc",
   "metadata": {},
   "source": [
    "# Practical Questions"
   ]
  },
  {
   "cell_type": "markdown",
   "id": "896f4091",
   "metadata": {},
   "source": [
    "###  1. Write a Python function that takes a list of numbers as input and returns the sum of all even numbers in the list."
   ]
  },
  {
   "cell_type": "code",
   "execution_count": 2,
   "id": "7db42754",
   "metadata": {},
   "outputs": [
    {
     "name": "stdout",
     "output_type": "stream",
     "text": [
      "39\n"
     ]
    }
   ],
   "source": [
    "def list_sum(num_list):\n",
    "    sum = 0\n",
    "    for i in num_list:\n",
    "        sum += i\n",
    "    \n",
    "    return sum\n",
    "\n",
    "numbers = [1,2,3,4,5,7,8,9]\n",
    "\n",
    "print(list_sum(numbers))"
   ]
  },
  {
   "cell_type": "markdown",
   "id": "557d21d4",
   "metadata": {},
   "source": [
    "###  2. Create a Python function that accepts a string and returns the reverse of that string."
   ]
  },
  {
   "cell_type": "code",
   "execution_count": 3,
   "id": "fa07eef0",
   "metadata": {},
   "outputs": [
    {
     "name": "stdout",
     "output_type": "stream",
     "text": [
      "Reverse of your name is : mahbuhS\n"
     ]
    }
   ],
   "source": [
    "def reverse_name(name):\n",
    "    return name[::-1]\n",
    "\n",
    "\n",
    "name = input(\"Please enter your name. :\")\n",
    "print(f\"Reverse of your name is : {reverse_name(name)}\")\n"
   ]
  },
  {
   "cell_type": "markdown",
   "id": "6c358c43",
   "metadata": {},
   "source": [
    "### 3. Implement a Python function that takes a list of integers and returns a new list containing the squares of each number."
   ]
  },
  {
   "cell_type": "code",
   "execution_count": 5,
   "id": "950cff8a",
   "metadata": {},
   "outputs": [
    {
     "name": "stdout",
     "output_type": "stream",
     "text": [
      "The squared list of [1, 2, 3, 4, 5, 6, 7, 8, 9] is : [1, 4, 9, 16, 25, 36, 49, 64, 81]\n"
     ]
    }
   ],
   "source": [
    "def squares(list_input):\n",
    "    squared_list = [i**2 for i in list_input]\n",
    "\n",
    "    return squared_list\n",
    "\n",
    "num_list = [1,2,3,4,5,6,7,8,9]\n",
    "print(f\"The squared list of {num_list} is : {squares(num_list)}\")"
   ]
  },
  {
   "cell_type": "markdown",
   "id": "e68c6fef",
   "metadata": {},
   "source": [
    "###  4. Write a Python function that checks if a given number is prime or not from 1 to 200."
   ]
  },
  {
   "cell_type": "code",
   "execution_count": null,
   "id": "3111a9d2",
   "metadata": {},
   "outputs": [
    {
     "name": "stdout",
     "output_type": "stream",
     "text": [
      "12 is not a Prime Number\n"
     ]
    }
   ],
   "source": [
    "def prime_or_not(num):\n",
    "    prime = True\n",
    "    \n",
    "    for i in range(2,(num//2)+1):\n",
    "        if num%i == 0:\n",
    "            prime = False\n",
    "    \n",
    "    return prime\n",
    "\n",
    "num = int(input(\"Please enter a number between 1 to 200\"))\n",
    "\n",
    "\n",
    "if prime_or_not(num):\n",
    "    print(f\"{num} is a Prime Number\")\n",
    "else : \n",
    "    print(f\"{num} is not a Prime Number\")\n",
    "        \n",
    "\n",
    "    \n"
   ]
  },
  {
   "cell_type": "markdown",
   "id": "897711ad",
   "metadata": {},
   "source": [
    "###  5. Create an iterator class in Python that generates the Fibonacci sequence up to a specified number of terms."
   ]
  },
  {
   "cell_type": "code",
   "execution_count": null,
   "id": "acca9fbd",
   "metadata": {},
   "outputs": [
    {
     "data": {
      "text/plain": [
       "1"
      ]
     },
     "execution_count": 35,
     "metadata": {},
     "output_type": "execute_result"
    }
   ],
   "source": []
  },
  {
   "cell_type": "markdown",
   "id": "3b399bde",
   "metadata": {},
   "source": [
    "### 6. Write a generator function in Python that yields the powers of 2 up to a given exponent."
   ]
  },
  {
   "cell_type": "code",
   "execution_count": null,
   "id": "c0ee9324",
   "metadata": {},
   "outputs": [],
   "source": []
  },
  {
   "cell_type": "markdown",
   "id": "0d9fb882",
   "metadata": {},
   "source": [
    "### 7. Implement a generator function that reads a file line by line and yields each line as a string."
   ]
  },
  {
   "cell_type": "markdown",
   "id": "2da79ede",
   "metadata": {},
   "source": []
  }
 ],
 "metadata": {
  "kernelspec": {
   "display_name": "base",
   "language": "python",
   "name": "python3"
  },
  "language_info": {
   "codemirror_mode": {
    "name": "ipython",
    "version": 3
   },
   "file_extension": ".py",
   "mimetype": "text/x-python",
   "name": "python",
   "nbconvert_exporter": "python",
   "pygments_lexer": "ipython3",
   "version": "3.12.4"
  }
 },
 "nbformat": 4,
 "nbformat_minor": 5
}
